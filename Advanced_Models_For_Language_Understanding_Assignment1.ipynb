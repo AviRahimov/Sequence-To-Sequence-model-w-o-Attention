{
  "cells": [
    {
      "cell_type": "markdown",
      "metadata": {
        "id": "view-in-github",
        "colab_type": "text"
      },
      "source": [
        "<a href=\"https://colab.research.google.com/github/AviRahimov/AMFLU_Assignment1/blob/main/Advanced_Models_For_Language_Understanding_Assignment1.ipynb\" target=\"_parent\"><img src=\"https://colab.research.google.com/assets/colab-badge.svg\" alt=\"Open In Colab\"/></a>"
      ]
    },
    {
      "cell_type": "markdown",
      "id": "f0a61948",
      "metadata": {
        "id": "f0a61948"
      },
      "source": [
        "# 🔹 Assignment 1: Seq2Seq Model for Sentence Unshuffling\n",
        "In this assignment, you'll implement a basic **Sequence-to-Sequence (Seq2Seq)** neural network using PyTorch.\n",
        "\n",
        "### 🎯 **Your goal:**\n",
        "Given a sentence whose words have been shuffled randomly, your model must reconstruct the original sentence.\n",
        "\n",
        "**Example:**\n",
        "\n",
        "| Input (shuffled) | Output (original) |\n",
        "|-----------------|------------------|\n",
        "| `mat the on sat cat The` | `The cat sat on the mat` |"
      ]
    },
    {
      "cell_type": "markdown",
      "id": "37546a90",
      "metadata": {
        "id": "37546a90"
      },
      "source": [
        "## 🔹 Why this task?\n",
        "This simple yet non-trivial task demonstrates how language models learn word-order and syntactic structures.\n",
        "From a psycholinguistic viewpoint, sentence reconstruction taps into:\n",
        "\n",
        "- **Working memory**: The model must hold multiple words and reorder them meaningfully.\n",
        "- **Syntax and semantics**: Reordering depends on syntactic constraints and semantic coherence."
      ]
    },
    {
      "cell_type": "markdown",
      "source": [
        "## 🔹 Quick Summary of PyTorch Workflow\n",
        "\n",
        "The general workflow when working with on deep learning with PyTorch usually involves these steps:\n",
        "\n",
        "1. **Prepare your data**:\n",
        "    - Define your dataset by subclassing `torch.utils.data.Dataset`.\n",
        "    - Use a `DataLoader` to iterate efficiently over the dataset in batches.\n",
        "    - Tokenization - select tokenization method and tokenize your data.\n",
        "\n",
        "2. **Define your model**:\n",
        "    - Create a model class by subclassing `nn.Module`.\n",
        "    - Define model layers in `__init__`.\n",
        "    - Define how data flows through the layers in the `forward()` method.\n",
        "\n",
        "\n",
        "3. **Training**:\n",
        "    - Select an appropriate loss function (`nn.CrossEntropyLoss`, `nn.MSELoss`, etc.).\n",
        "    - Choose an optimizer (`optim.Adam`, `optim.SGD`, etc.).\n",
        "    - **Training Loop** -- For each batch:\n",
        "        1. Pass input data through your model to produce predictions (logits).\n",
        "        2. Compute the loss w.r.t. the gold label (target).\n",
        "        3. Perform backpropagation (`loss.backward()`) to calculate gradients of all model parameters.\n",
        "        4. Update the model parameters with your optimizer (`optimizer.step()`).\n",
        "        5. Reset gradients (`optimizer.zero_grad()`).\n",
        "\n",
        "This structured workflow helps streamline model development and makes training neural networks clear and efficient.\n",
        "\n",
        "This notebook will walk you through this process - you need to learn it and the complete the missing code segment marked with a `#TODO` comment."
      ],
      "metadata": {
        "id": "FmlLBejDCw6X"
      },
      "id": "FmlLBejDCw6X"
    },
    {
      "cell_type": "markdown",
      "source": [
        "## 🔹 Step 0: One-time Preparations\n",
        "\n",
        "### Step 0.1: Install Python Dependencies"
      ],
      "metadata": {
        "id": "IMXO6OkGIU1j"
      },
      "id": "IMXO6OkGIU1j"
    },
    {
      "cell_type": "code",
      "source": [
        "%pip install torch pandas scikit-learn"
      ],
      "metadata": {
        "colab": {
          "base_uri": "https://localhost:8080/"
        },
        "id": "hKyvKyjaIgWA",
        "outputId": "219975a9-d3b6-4792-b691-4e9396ee1ffd",
        "collapsed": true
      },
      "id": "hKyvKyjaIgWA",
      "execution_count": 1,
      "outputs": [
        {
          "output_type": "stream",
          "name": "stdout",
          "text": [
            "Requirement already satisfied: torch in /usr/local/lib/python3.11/dist-packages (2.6.0+cu124)\n",
            "Requirement already satisfied: pandas in /usr/local/lib/python3.11/dist-packages (2.2.2)\n",
            "Requirement already satisfied: scikit-learn in /usr/local/lib/python3.11/dist-packages (1.6.1)\n",
            "Requirement already satisfied: filelock in /usr/local/lib/python3.11/dist-packages (from torch) (3.18.0)\n",
            "Requirement already satisfied: typing-extensions>=4.10.0 in /usr/local/lib/python3.11/dist-packages (from torch) (4.13.2)\n",
            "Requirement already satisfied: networkx in /usr/local/lib/python3.11/dist-packages (from torch) (3.4.2)\n",
            "Requirement already satisfied: jinja2 in /usr/local/lib/python3.11/dist-packages (from torch) (3.1.6)\n",
            "Requirement already satisfied: fsspec in /usr/local/lib/python3.11/dist-packages (from torch) (2025.3.2)\n",
            "Collecting nvidia-cuda-nvrtc-cu12==12.4.127 (from torch)\n",
            "  Downloading nvidia_cuda_nvrtc_cu12-12.4.127-py3-none-manylinux2014_x86_64.whl.metadata (1.5 kB)\n",
            "Collecting nvidia-cuda-runtime-cu12==12.4.127 (from torch)\n",
            "  Downloading nvidia_cuda_runtime_cu12-12.4.127-py3-none-manylinux2014_x86_64.whl.metadata (1.5 kB)\n",
            "Collecting nvidia-cuda-cupti-cu12==12.4.127 (from torch)\n",
            "  Downloading nvidia_cuda_cupti_cu12-12.4.127-py3-none-manylinux2014_x86_64.whl.metadata (1.6 kB)\n",
            "Collecting nvidia-cudnn-cu12==9.1.0.70 (from torch)\n",
            "  Downloading nvidia_cudnn_cu12-9.1.0.70-py3-none-manylinux2014_x86_64.whl.metadata (1.6 kB)\n",
            "Collecting nvidia-cublas-cu12==12.4.5.8 (from torch)\n",
            "  Downloading nvidia_cublas_cu12-12.4.5.8-py3-none-manylinux2014_x86_64.whl.metadata (1.5 kB)\n",
            "Collecting nvidia-cufft-cu12==11.2.1.3 (from torch)\n",
            "  Downloading nvidia_cufft_cu12-11.2.1.3-py3-none-manylinux2014_x86_64.whl.metadata (1.5 kB)\n",
            "Collecting nvidia-curand-cu12==10.3.5.147 (from torch)\n",
            "  Downloading nvidia_curand_cu12-10.3.5.147-py3-none-manylinux2014_x86_64.whl.metadata (1.5 kB)\n",
            "Collecting nvidia-cusolver-cu12==11.6.1.9 (from torch)\n",
            "  Downloading nvidia_cusolver_cu12-11.6.1.9-py3-none-manylinux2014_x86_64.whl.metadata (1.6 kB)\n",
            "Collecting nvidia-cusparse-cu12==12.3.1.170 (from torch)\n",
            "  Downloading nvidia_cusparse_cu12-12.3.1.170-py3-none-manylinux2014_x86_64.whl.metadata (1.6 kB)\n",
            "Requirement already satisfied: nvidia-cusparselt-cu12==0.6.2 in /usr/local/lib/python3.11/dist-packages (from torch) (0.6.2)\n",
            "Requirement already satisfied: nvidia-nccl-cu12==2.21.5 in /usr/local/lib/python3.11/dist-packages (from torch) (2.21.5)\n",
            "Requirement already satisfied: nvidia-nvtx-cu12==12.4.127 in /usr/local/lib/python3.11/dist-packages (from torch) (12.4.127)\n",
            "Collecting nvidia-nvjitlink-cu12==12.4.127 (from torch)\n",
            "  Downloading nvidia_nvjitlink_cu12-12.4.127-py3-none-manylinux2014_x86_64.whl.metadata (1.5 kB)\n",
            "Requirement already satisfied: triton==3.2.0 in /usr/local/lib/python3.11/dist-packages (from torch) (3.2.0)\n",
            "Requirement already satisfied: sympy==1.13.1 in /usr/local/lib/python3.11/dist-packages (from torch) (1.13.1)\n",
            "Requirement already satisfied: mpmath<1.4,>=1.1.0 in /usr/local/lib/python3.11/dist-packages (from sympy==1.13.1->torch) (1.3.0)\n",
            "Requirement already satisfied: numpy>=1.23.2 in /usr/local/lib/python3.11/dist-packages (from pandas) (2.0.2)\n",
            "Requirement already satisfied: python-dateutil>=2.8.2 in /usr/local/lib/python3.11/dist-packages (from pandas) (2.8.2)\n",
            "Requirement already satisfied: pytz>=2020.1 in /usr/local/lib/python3.11/dist-packages (from pandas) (2025.2)\n",
            "Requirement already satisfied: tzdata>=2022.7 in /usr/local/lib/python3.11/dist-packages (from pandas) (2025.2)\n",
            "Requirement already satisfied: scipy>=1.6.0 in /usr/local/lib/python3.11/dist-packages (from scikit-learn) (1.14.1)\n",
            "Requirement already satisfied: joblib>=1.2.0 in /usr/local/lib/python3.11/dist-packages (from scikit-learn) (1.4.2)\n",
            "Requirement already satisfied: threadpoolctl>=3.1.0 in /usr/local/lib/python3.11/dist-packages (from scikit-learn) (3.6.0)\n",
            "Requirement already satisfied: six>=1.5 in /usr/local/lib/python3.11/dist-packages (from python-dateutil>=2.8.2->pandas) (1.17.0)\n",
            "Requirement already satisfied: MarkupSafe>=2.0 in /usr/local/lib/python3.11/dist-packages (from jinja2->torch) (3.0.2)\n",
            "Downloading nvidia_cublas_cu12-12.4.5.8-py3-none-manylinux2014_x86_64.whl (363.4 MB)\n",
            "\u001b[2K   \u001b[91m━━━━━━━━━━━━━━━━━━━\u001b[0m\u001b[90m╺\u001b[0m\u001b[90m━━━━━━━━━━━━━━━━━━━\u001b[0m \u001b[32m177.7/363.4 MB\u001b[0m \u001b[31m145.4 MB/s\u001b[0m eta \u001b[36m0:00:02\u001b[0m\n",
            "\u001b[?25hDownloading nvidia_cuda_cupti_cu12-12.4.127-py3-none-manylinux2014_x86_64.whl (13.8 MB)\n",
            "\u001b[2K   \u001b[90m━━━━━━━━━━━━━━━━━━━━━━━━━━━━━━━━━━━━━━━━\u001b[0m \u001b[32m13.8/13.8 MB\u001b[0m \u001b[31m9.9 MB/s\u001b[0m eta \u001b[36m0:00:00\u001b[0m\n",
            "\u001b[?25hDownloading nvidia_cuda_nvrtc_cu12-12.4.127-py3-none-manylinux2014_x86_64.whl (24.6 MB)\n",
            "\u001b[2K   \u001b[90m━━━━━━━━━━━━━━━━━━━━━━━━━━━━━━━━━━━━━━━━\u001b[0m \u001b[32m24.6/24.6 MB\u001b[0m \u001b[31m89.4 MB/s\u001b[0m eta \u001b[36m0:00:00\u001b[0m\n",
            "\u001b[?25hDownloading nvidia_cuda_runtime_cu12-12.4.127-py3-none-manylinux2014_x86_64.whl (883 kB)\n",
            "\u001b[2K   \u001b[90m━━━━━━━━━━━━━━━━━━━━━━━━━━━━━━━━━━━━━━━━\u001b[0m \u001b[32m883.7/883.7 kB\u001b[0m \u001b[31m51.1 MB/s\u001b[0m eta \u001b[36m0:00:00\u001b[0m\n",
            "\u001b[?25hDownloading nvidia_cudnn_cu12-9.1.0.70-py3-none-manylinux2014_x86_64.whl (664.8 MB)\n",
            "\u001b[2K   \u001b[90m━━━━━━━━━━━━━━━━━━━━━━━━━━━━━━━━━━━━━━━━\u001b[0m \u001b[32m664.8/664.8 MB\u001b[0m \u001b[31m2.7 MB/s\u001b[0m eta \u001b[36m0:00:00\u001b[0m\n",
            "\u001b[?25hDownloading nvidia_cufft_cu12-11.2.1.3-py3-none-manylinux2014_x86_64.whl (211.5 MB)\n",
            "\u001b[2K   \u001b[90m━━━━━━━━━━━━━━━━━━━━━━━━━━━━━━━━━━━━━━━━\u001b[0m \u001b[32m211.5/211.5 MB\u001b[0m \u001b[31m5.6 MB/s\u001b[0m eta \u001b[36m0:00:00\u001b[0m\n",
            "\u001b[?25hDownloading nvidia_curand_cu12-10.3.5.147-py3-none-manylinux2014_x86_64.whl (56.3 MB)\n",
            "\u001b[2K   \u001b[90m━━━━━━━━━━━━━━━━━━━━━━━━━━━━━━━━━━━━━━━━\u001b[0m \u001b[32m56.3/56.3 MB\u001b[0m \u001b[31m12.9 MB/s\u001b[0m eta \u001b[36m0:00:00\u001b[0m\n",
            "\u001b[?25hDownloading nvidia_cusolver_cu12-11.6.1.9-py3-none-manylinux2014_x86_64.whl (127.9 MB)\n",
            "\u001b[2K   \u001b[90m━━━━━━━━━━━━━━━━━━━━━━━━━━━━━━━━━━━━━━━━\u001b[0m \u001b[32m127.9/127.9 MB\u001b[0m \u001b[31m7.6 MB/s\u001b[0m eta \u001b[36m0:00:00\u001b[0m\n",
            "\u001b[?25hDownloading nvidia_cusparse_cu12-12.3.1.170-py3-none-manylinux2014_x86_64.whl (207.5 MB)\n",
            "\u001b[2K   \u001b[90m━━━━━━━━━━━━━━━━━━━━━━━━━━━━━━━━━━━━━━━━\u001b[0m \u001b[32m207.5/207.5 MB\u001b[0m \u001b[31m7.4 MB/s\u001b[0m eta \u001b[36m0:00:00\u001b[0m\n",
            "\u001b[?25hDownloading nvidia_nvjitlink_cu12-12.4.127-py3-none-manylinux2014_x86_64.whl (21.1 MB)\n",
            "\u001b[2K   \u001b[90m━━━━━━━━━━━━━━━━━━━━━━━━━━━━━━━━━━━━━━━━\u001b[0m \u001b[32m21.1/21.1 MB\u001b[0m \u001b[31m69.5 MB/s\u001b[0m eta \u001b[36m0:00:00\u001b[0m\n",
            "\u001b[?25h\u001b[31mERROR: THESE PACKAGES DO NOT MATCH THE HASHES FROM THE REQUIREMENTS FILE. If you have updated the package versions, please update the hashes. Otherwise, examine the package contents carefully; someone may have tampered with them.\n",
            "    unknown package:\n",
            "        Expected sha256 2fc8da60df463fdefa81e323eef2e36489e1c94335b5358bcb38360adf75ac9b\n",
            "             Got        da91f7ea04afb2bceda7ababe5b2ff9224b2e4ddc8dee09cbb2997f8913789b4\n",
            "\u001b[0m\u001b[31m\n",
            "\u001b[0m"
          ]
        }
      ]
    },
    {
      "cell_type": "markdown",
      "id": "c7573a39",
      "metadata": {
        "id": "c7573a39"
      },
      "source": [
        "### Step 0.2: Download the Dataset\n",
        "Download the provided dataset file (`train.csv`) from the following link:\n",
        "\n",
        "[train.csv](https://drive.google.com/file/d/1eHBj_mdKjPfj_NuXy0zCG5IkQMJLGpPM/view?usp=sharing)\n",
        "\n",
        "Then upload the file to your Colab notebook or Jupyter environment."
      ]
    },
    {
      "cell_type": "markdown",
      "id": "8d22c22e",
      "metadata": {
        "id": "8d22c22e"
      },
      "source": [
        "## 🔹 Step 1: Prepare Data"
      ]
    },
    {
      "cell_type": "code",
      "execution_count": 4,
      "id": "a70075c2",
      "metadata": {
        "id": "a70075c2",
        "colab": {
          "base_uri": "https://localhost:8080/",
          "height": 206
        },
        "outputId": "aefa2069-a3b2-4c92-a109-e7cc752ba523"
      },
      "outputs": [
        {
          "output_type": "execute_result",
          "data": {
            "text/plain": [
              "   Unnamed: 0                                     input_sentence  \\\n",
              "0           0           to think need we about. That's something   \n",
              "1           1          is mountains. the up moon coming over The   \n",
              "2           2  committee. the The through Congressmen bill ra...   \n",
              "3           3            careful late I'll to never again. be be   \n",
              "4           4           please.\" gifts, \"No The said, invitation   \n",
              "\n",
              "                                     target_sentence  \n",
              "0           That's something we need to think about.  \n",
              "1          The moon is coming up over the mountains.  \n",
              "2  The Congressmen rammed the bill through commit...  \n",
              "3            I'll be careful never to be late again.  \n",
              "4           The invitation said, \"No gifts, please.\"  "
            ],
            "text/html": [
              "\n",
              "  <div id=\"df-2c080db3-3c87-43dd-8927-f75521903d7d\" class=\"colab-df-container\">\n",
              "    <div>\n",
              "<style scoped>\n",
              "    .dataframe tbody tr th:only-of-type {\n",
              "        vertical-align: middle;\n",
              "    }\n",
              "\n",
              "    .dataframe tbody tr th {\n",
              "        vertical-align: top;\n",
              "    }\n",
              "\n",
              "    .dataframe thead th {\n",
              "        text-align: right;\n",
              "    }\n",
              "</style>\n",
              "<table border=\"1\" class=\"dataframe\">\n",
              "  <thead>\n",
              "    <tr style=\"text-align: right;\">\n",
              "      <th></th>\n",
              "      <th>Unnamed: 0</th>\n",
              "      <th>input_sentence</th>\n",
              "      <th>target_sentence</th>\n",
              "    </tr>\n",
              "  </thead>\n",
              "  <tbody>\n",
              "    <tr>\n",
              "      <th>0</th>\n",
              "      <td>0</td>\n",
              "      <td>to think need we about. That's something</td>\n",
              "      <td>That's something we need to think about.</td>\n",
              "    </tr>\n",
              "    <tr>\n",
              "      <th>1</th>\n",
              "      <td>1</td>\n",
              "      <td>is mountains. the up moon coming over The</td>\n",
              "      <td>The moon is coming up over the mountains.</td>\n",
              "    </tr>\n",
              "    <tr>\n",
              "      <th>2</th>\n",
              "      <td>2</td>\n",
              "      <td>committee. the The through Congressmen bill ra...</td>\n",
              "      <td>The Congressmen rammed the bill through commit...</td>\n",
              "    </tr>\n",
              "    <tr>\n",
              "      <th>3</th>\n",
              "      <td>3</td>\n",
              "      <td>careful late I'll to never again. be be</td>\n",
              "      <td>I'll be careful never to be late again.</td>\n",
              "    </tr>\n",
              "    <tr>\n",
              "      <th>4</th>\n",
              "      <td>4</td>\n",
              "      <td>please.\" gifts, \"No The said, invitation</td>\n",
              "      <td>The invitation said, \"No gifts, please.\"</td>\n",
              "    </tr>\n",
              "  </tbody>\n",
              "</table>\n",
              "</div>\n",
              "    <div class=\"colab-df-buttons\">\n",
              "\n",
              "  <div class=\"colab-df-container\">\n",
              "    <button class=\"colab-df-convert\" onclick=\"convertToInteractive('df-2c080db3-3c87-43dd-8927-f75521903d7d')\"\n",
              "            title=\"Convert this dataframe to an interactive table.\"\n",
              "            style=\"display:none;\">\n",
              "\n",
              "  <svg xmlns=\"http://www.w3.org/2000/svg\" height=\"24px\" viewBox=\"0 -960 960 960\">\n",
              "    <path d=\"M120-120v-720h720v720H120Zm60-500h600v-160H180v160Zm220 220h160v-160H400v160Zm0 220h160v-160H400v160ZM180-400h160v-160H180v160Zm440 0h160v-160H620v160ZM180-180h160v-160H180v160Zm440 0h160v-160H620v160Z\"/>\n",
              "  </svg>\n",
              "    </button>\n",
              "\n",
              "  <style>\n",
              "    .colab-df-container {\n",
              "      display:flex;\n",
              "      gap: 12px;\n",
              "    }\n",
              "\n",
              "    .colab-df-convert {\n",
              "      background-color: #E8F0FE;\n",
              "      border: none;\n",
              "      border-radius: 50%;\n",
              "      cursor: pointer;\n",
              "      display: none;\n",
              "      fill: #1967D2;\n",
              "      height: 32px;\n",
              "      padding: 0 0 0 0;\n",
              "      width: 32px;\n",
              "    }\n",
              "\n",
              "    .colab-df-convert:hover {\n",
              "      background-color: #E2EBFA;\n",
              "      box-shadow: 0px 1px 2px rgba(60, 64, 67, 0.3), 0px 1px 3px 1px rgba(60, 64, 67, 0.15);\n",
              "      fill: #174EA6;\n",
              "    }\n",
              "\n",
              "    .colab-df-buttons div {\n",
              "      margin-bottom: 4px;\n",
              "    }\n",
              "\n",
              "    [theme=dark] .colab-df-convert {\n",
              "      background-color: #3B4455;\n",
              "      fill: #D2E3FC;\n",
              "    }\n",
              "\n",
              "    [theme=dark] .colab-df-convert:hover {\n",
              "      background-color: #434B5C;\n",
              "      box-shadow: 0px 1px 3px 1px rgba(0, 0, 0, 0.15);\n",
              "      filter: drop-shadow(0px 1px 2px rgba(0, 0, 0, 0.3));\n",
              "      fill: #FFFFFF;\n",
              "    }\n",
              "  </style>\n",
              "\n",
              "    <script>\n",
              "      const buttonEl =\n",
              "        document.querySelector('#df-2c080db3-3c87-43dd-8927-f75521903d7d button.colab-df-convert');\n",
              "      buttonEl.style.display =\n",
              "        google.colab.kernel.accessAllowed ? 'block' : 'none';\n",
              "\n",
              "      async function convertToInteractive(key) {\n",
              "        const element = document.querySelector('#df-2c080db3-3c87-43dd-8927-f75521903d7d');\n",
              "        const dataTable =\n",
              "          await google.colab.kernel.invokeFunction('convertToInteractive',\n",
              "                                                    [key], {});\n",
              "        if (!dataTable) return;\n",
              "\n",
              "        const docLinkHtml = 'Like what you see? Visit the ' +\n",
              "          '<a target=\"_blank\" href=https://colab.research.google.com/notebooks/data_table.ipynb>data table notebook</a>'\n",
              "          + ' to learn more about interactive tables.';\n",
              "        element.innerHTML = '';\n",
              "        dataTable['output_type'] = 'display_data';\n",
              "        await google.colab.output.renderOutput(dataTable, element);\n",
              "        const docLink = document.createElement('div');\n",
              "        docLink.innerHTML = docLinkHtml;\n",
              "        element.appendChild(docLink);\n",
              "      }\n",
              "    </script>\n",
              "  </div>\n",
              "\n",
              "\n",
              "<div id=\"df-06665948-66b0-44f5-bf8a-e4b4c49a525c\">\n",
              "  <button class=\"colab-df-quickchart\" onclick=\"quickchart('df-06665948-66b0-44f5-bf8a-e4b4c49a525c')\"\n",
              "            title=\"Suggest charts\"\n",
              "            style=\"display:none;\">\n",
              "\n",
              "<svg xmlns=\"http://www.w3.org/2000/svg\" height=\"24px\"viewBox=\"0 0 24 24\"\n",
              "     width=\"24px\">\n",
              "    <g>\n",
              "        <path d=\"M19 3H5c-1.1 0-2 .9-2 2v14c0 1.1.9 2 2 2h14c1.1 0 2-.9 2-2V5c0-1.1-.9-2-2-2zM9 17H7v-7h2v7zm4 0h-2V7h2v10zm4 0h-2v-4h2v4z\"/>\n",
              "    </g>\n",
              "</svg>\n",
              "  </button>\n",
              "\n",
              "<style>\n",
              "  .colab-df-quickchart {\n",
              "      --bg-color: #E8F0FE;\n",
              "      --fill-color: #1967D2;\n",
              "      --hover-bg-color: #E2EBFA;\n",
              "      --hover-fill-color: #174EA6;\n",
              "      --disabled-fill-color: #AAA;\n",
              "      --disabled-bg-color: #DDD;\n",
              "  }\n",
              "\n",
              "  [theme=dark] .colab-df-quickchart {\n",
              "      --bg-color: #3B4455;\n",
              "      --fill-color: #D2E3FC;\n",
              "      --hover-bg-color: #434B5C;\n",
              "      --hover-fill-color: #FFFFFF;\n",
              "      --disabled-bg-color: #3B4455;\n",
              "      --disabled-fill-color: #666;\n",
              "  }\n",
              "\n",
              "  .colab-df-quickchart {\n",
              "    background-color: var(--bg-color);\n",
              "    border: none;\n",
              "    border-radius: 50%;\n",
              "    cursor: pointer;\n",
              "    display: none;\n",
              "    fill: var(--fill-color);\n",
              "    height: 32px;\n",
              "    padding: 0;\n",
              "    width: 32px;\n",
              "  }\n",
              "\n",
              "  .colab-df-quickchart:hover {\n",
              "    background-color: var(--hover-bg-color);\n",
              "    box-shadow: 0 1px 2px rgba(60, 64, 67, 0.3), 0 1px 3px 1px rgba(60, 64, 67, 0.15);\n",
              "    fill: var(--button-hover-fill-color);\n",
              "  }\n",
              "\n",
              "  .colab-df-quickchart-complete:disabled,\n",
              "  .colab-df-quickchart-complete:disabled:hover {\n",
              "    background-color: var(--disabled-bg-color);\n",
              "    fill: var(--disabled-fill-color);\n",
              "    box-shadow: none;\n",
              "  }\n",
              "\n",
              "  .colab-df-spinner {\n",
              "    border: 2px solid var(--fill-color);\n",
              "    border-color: transparent;\n",
              "    border-bottom-color: var(--fill-color);\n",
              "    animation:\n",
              "      spin 1s steps(1) infinite;\n",
              "  }\n",
              "\n",
              "  @keyframes spin {\n",
              "    0% {\n",
              "      border-color: transparent;\n",
              "      border-bottom-color: var(--fill-color);\n",
              "      border-left-color: var(--fill-color);\n",
              "    }\n",
              "    20% {\n",
              "      border-color: transparent;\n",
              "      border-left-color: var(--fill-color);\n",
              "      border-top-color: var(--fill-color);\n",
              "    }\n",
              "    30% {\n",
              "      border-color: transparent;\n",
              "      border-left-color: var(--fill-color);\n",
              "      border-top-color: var(--fill-color);\n",
              "      border-right-color: var(--fill-color);\n",
              "    }\n",
              "    40% {\n",
              "      border-color: transparent;\n",
              "      border-right-color: var(--fill-color);\n",
              "      border-top-color: var(--fill-color);\n",
              "    }\n",
              "    60% {\n",
              "      border-color: transparent;\n",
              "      border-right-color: var(--fill-color);\n",
              "    }\n",
              "    80% {\n",
              "      border-color: transparent;\n",
              "      border-right-color: var(--fill-color);\n",
              "      border-bottom-color: var(--fill-color);\n",
              "    }\n",
              "    90% {\n",
              "      border-color: transparent;\n",
              "      border-bottom-color: var(--fill-color);\n",
              "    }\n",
              "  }\n",
              "</style>\n",
              "\n",
              "  <script>\n",
              "    async function quickchart(key) {\n",
              "      const quickchartButtonEl =\n",
              "        document.querySelector('#' + key + ' button');\n",
              "      quickchartButtonEl.disabled = true;  // To prevent multiple clicks.\n",
              "      quickchartButtonEl.classList.add('colab-df-spinner');\n",
              "      try {\n",
              "        const charts = await google.colab.kernel.invokeFunction(\n",
              "            'suggestCharts', [key], {});\n",
              "      } catch (error) {\n",
              "        console.error('Error during call to suggestCharts:', error);\n",
              "      }\n",
              "      quickchartButtonEl.classList.remove('colab-df-spinner');\n",
              "      quickchartButtonEl.classList.add('colab-df-quickchart-complete');\n",
              "    }\n",
              "    (() => {\n",
              "      let quickchartButtonEl =\n",
              "        document.querySelector('#df-06665948-66b0-44f5-bf8a-e4b4c49a525c button');\n",
              "      quickchartButtonEl.style.display =\n",
              "        google.colab.kernel.accessAllowed ? 'block' : 'none';\n",
              "    })();\n",
              "  </script>\n",
              "</div>\n",
              "\n",
              "    </div>\n",
              "  </div>\n"
            ],
            "application/vnd.google.colaboratory.intrinsic+json": {
              "type": "dataframe",
              "variable_name": "df",
              "summary": "{\n  \"name\": \"df\",\n  \"rows\": 12840,\n  \"fields\": [\n    {\n      \"column\": \"Unnamed: 0\",\n      \"properties\": {\n        \"dtype\": \"number\",\n        \"std\": 3706,\n        \"min\": 0,\n        \"max\": 12839,\n        \"num_unique_values\": 12840,\n        \"samples\": [\n          5790,\n          11623,\n          8346\n        ],\n        \"semantic_type\": \"\",\n        \"description\": \"\"\n      }\n    },\n    {\n      \"column\": \"input_sentence\",\n      \"properties\": {\n        \"dtype\": \"string\",\n        \"num_unique_values\": 12839,\n        \"samples\": [\n          \"for he but back a had to get few Chicago. more to Tom stay Boston wanted in days, to\",\n          \"Maybe I'll later. you see\",\n          \"I Do salesgirl? pay the\"\n        ],\n        \"semantic_type\": \"\",\n        \"description\": \"\"\n      }\n    },\n    {\n      \"column\": \"target_sentence\",\n      \"properties\": {\n        \"dtype\": \"string\",\n        \"num_unique_values\": 12440,\n        \"samples\": [\n          \"Tom hasn't decided what to do.\",\n          \"Do you feel that the media presents the news fairly?\",\n          \"She called me many times.\"\n        ],\n        \"semantic_type\": \"\",\n        \"description\": \"\"\n      }\n    }\n  ]\n}"
            }
          },
          "metadata": {},
          "execution_count": 4
        }
      ],
      "source": [
        "import pandas as pd\n",
        "import torch\n",
        "import torch.nn as nn\n",
        "import torch.optim as optim\n",
        "import random\n",
        "from sklearn.model_selection import train_test_split\n",
        "\n",
        "random_seed = 123\n",
        "random.seed(random_seed)\n",
        "torch.manual_seed(random_seed)\n",
        "\n",
        "df = pd.read_csv('train.csv')\n",
        "df.head()"
      ]
    },
    {
      "cell_type": "code",
      "execution_count": 5,
      "id": "c21b2edd",
      "metadata": {
        "id": "c21b2edd",
        "colab": {
          "base_uri": "https://localhost:8080/"
        },
        "outputId": "ca8d3247-fce5-48d0-d1e4-4971a52f4f0e"
      },
      "outputs": [
        {
          "output_type": "stream",
          "name": "stdout",
          "text": [
            "Training examples: 11556\n",
            "Development examples: 1284\n"
          ]
        }
      ],
      "source": [
        "train_df, dev_df = train_test_split(df, test_size=0.1, random_state=42)\n",
        "print(f\"Training examples: {len(train_df)}\")\n",
        "print(f\"Development examples: {len(dev_df)}\")"
      ]
    },
    {
      "cell_type": "markdown",
      "source": [
        "#### Pedagogical Note: **Why do we split train data into training and development (dev) sets?**\n",
        "\n",
        "When developing machine learning models, we want to ensure our model not only performs well on the data it has seen during training but also generalizes effectively to **new, unseen data**.\n",
        "\n",
        "- **Training set**:  \n",
        "  Used by the model to learn patterns. This is the data your model sees repeatedly during the training process.\n",
        "\n",
        "- **Development (dev) set** *(also known as validation set)*:  \n",
        "  Used to evaluate the model's performance on unseen examples during training. By checking the model periodically against the dev set, we can identify and prevent **overfitting**—when the model performs excellently on training data but poorly on new examples.\n",
        "\n",
        "Thus, by splitting the data, we ensure our model truly learns generalizable patterns rather than memorizing the specific examples it trained on.\n"
      ],
      "metadata": {
        "id": "JRGMPu8eKVnI"
      },
      "id": "JRGMPu8eKVnI"
    },
    {
      "cell_type": "code",
      "execution_count": 6,
      "id": "9df6d543",
      "metadata": {
        "id": "9df6d543",
        "colab": {
          "base_uri": "https://localhost:8080/"
        },
        "outputId": "759df90d-c345-40f5-8935-bc17bdcfcdaa"
      },
      "outputs": [
        {
          "output_type": "stream",
          "name": "stdout",
          "text": [
            "Vocabulary size: 4403\n"
          ]
        }
      ],
      "source": [
        "# Handle Vocabulary and Tokenization\n",
        "from collections import Counter\n",
        "\n",
        "def tokenize(sentence):\n",
        "    return sentence.lower().split()\n",
        "\n",
        "counter = Counter()\n",
        "for sentence in train_df['input_sentence']:\n",
        "    counter.update(tokenize(sentence))\n",
        "\n",
        "# Special Tokens\n",
        "PAD = '<PAD>'\n",
        "SOS = '<SOS>'\n",
        "EOS = '<EOS>'\n",
        "UNK = '<UNK>'   # to handle out-of-vocabulary words\n",
        "\n",
        "words = [PAD, SOS, EOS, UNK] + [w for w, c in counter.items() if c >= 2]\n",
        "# we maintain mapping between words (vocabulary entries) and their ids\n",
        "word2idx = {w: i for i, w in enumerate(words)}\n",
        "idx2word = {i: w for w, i in word2idx.items()}\n",
        "\n",
        "vocab_size = len(word2idx)\n",
        "print(f\"Vocabulary size: {vocab_size}\")\n",
        "\n",
        "def encode_sentence(sentence: str, word2idx, max_len):\n",
        "    # Replace sentence string with a fixed-length list of ints (token_ids with padding)\n",
        "    tokens = tokenize(sentence)\n",
        "    token_ids = [word2idx.get(w, word2idx[UNK]) for w in tokens]\n",
        "    token_ids = token_ids[:max_len-1]\n",
        "    token_ids.append(word2idx[EOS])\n",
        "    padding = [word2idx[PAD]] * (max_len - len(token_ids))\n",
        "    return token_ids + padding"
      ]
    },
    {
      "cell_type": "code",
      "execution_count": 7,
      "id": "9a1b859c",
      "metadata": {
        "id": "9a1b859c"
      },
      "outputs": [],
      "source": [
        "# Custom Dataset class for sentence-to-sentence mapping\n",
        "class SentenceDataset(torch.utils.data.Dataset):\n",
        "    def __init__(self, df, word2idx, max_len):\n",
        "        # Store input and target sentences as lists of strings\n",
        "        self.input_sentences = df['input_sentence'].tolist()\n",
        "        self.target_sentences = df['target_sentence'].tolist()\n",
        "        self.word2idx = word2idx  # mapping from word to index\n",
        "        self.max_len = max_len    # maximum length of sentence (for padding)\n",
        "\n",
        "    def __len__(self):\n",
        "        # Return number of examples in the dataset\n",
        "        return len(self.input_sentences)\n",
        "\n",
        "    def __getitem__(self, idx):\n",
        "        # Encode both input and target sentences to fixed-length tensors of token IDs\n",
        "        src = encode_sentence(self.input_sentences[idx], self.word2idx, self.max_len)\n",
        "        trg = encode_sentence(self.target_sentences[idx], self.word2idx, self.max_len)\n",
        "        return torch.tensor(src), torch.tensor(trg)  # return as PyTorch tensors\n",
        "\n",
        "# Define batch size and maximum sentence length\n",
        "batch_size = 32\n",
        "max_len = 50  # All sequences will be padded/truncated to this length\n",
        "\n",
        "# Create training dataset and dataloader\n",
        "train_dataset = SentenceDataset(train_df, word2idx, max_len)\n",
        "train_loader = torch.utils.data.DataLoader(\n",
        "    train_dataset, batch_size=batch_size, shuffle=True\n",
        ")\n",
        "# DataLoader loads batches from the dataset and optionally shuffles them\n",
        "\n",
        "# Create development (validation) dataset and dataloader\n",
        "dev_dataset = SentenceDataset(dev_df, word2idx, max_len)\n",
        "dev_loader = torch.utils.data.DataLoader(\n",
        "    dev_dataset, batch_size=batch_size\n",
        ")\n"
      ]
    },
    {
      "cell_type": "code",
      "source": [
        "# Get one batch of (src, trg) from the DataLoader\n",
        "src_batch, trg_batch = next(iter(train_loader))\n",
        "\n",
        "# Print their shapes\n",
        "print(\"src_batch.shape =\", src_batch.shape)\n",
        "print(\"trg_batch.shape =\", trg_batch.shape)"
      ],
      "metadata": {
        "colab": {
          "base_uri": "https://localhost:8080/"
        },
        "id": "Wm8yYkpes3u3",
        "outputId": "511f32d7-1eef-4fcf-8f76-3c175741bb9b"
      },
      "id": "Wm8yYkpes3u3",
      "execution_count": 8,
      "outputs": [
        {
          "output_type": "stream",
          "name": "stdout",
          "text": [
            "src_batch.shape = torch.Size([32, 50])\n",
            "trg_batch.shape = torch.Size([32, 50])\n"
          ]
        }
      ]
    },
    {
      "cell_type": "markdown",
      "source": [
        "## PyTorch Quick Reference\n",
        "\n",
        "Since this is your first encounter with PyTorch in the course, here's a short summary of essential PyTorch classes used in this notebook:\n"
      ],
      "metadata": {
        "id": "7o3Mz8zr3foD"
      },
      "id": "7o3Mz8zr3foD"
    },
    {
      "cell_type": "markdown",
      "source": [
        "\n",
        "---\n",
        "### ✅ torch.utils.data.Dataset\n",
        "#### What is it?\n",
        "\n",
        "An abstract class representing your dataset. It lets you define exactly how to access and prepare each data point.\n",
        "\n",
        "#### How to use it?\n",
        "\n",
        "You subclass it and implement two methods:\n",
        "\n",
        "`__len__(self)`: returns the size of your dataset.\n",
        "\n",
        "`__getitem__(self, index)`: returns one data point (input-target pair).\n",
        "\n",
        "#### Why do we use it?\n",
        "It provides a clean way to structure your data and feed it systematically into your model.\n",
        "\n",
        "---\n",
        "### ✅ torch.utils.data.DataLoader\n",
        "#### What is it?\n",
        "A utility that takes a Dataset object and provides an iterator over it.\n",
        "\n",
        "#### How to use it?\n",
        "Specify batch size, shuffle options, and more:\n",
        "\n",
        "```python\n",
        "loader = torch.utils.data.DataLoader(dataset, batch_size=32, shuffle=True)\n",
        "```\n",
        "#### Why do we use it?\n",
        "It handles batching, shuffling, and efficient parallel data loading automatically—making your training loop concise and efficient.\n",
        "\n",
        "---\n",
        "### ✅ torch.nn.Module\n",
        "#### What is it?\n",
        "The base class for all neural network models in PyTorch. Every model you build inherits from it.\n",
        "\n",
        "#### How to use it?\n",
        "You subclass it, define your layers in the constructor (`__init__`), and specify the forward pass in the `forward()` method:\n",
        "\n",
        "```python\n",
        "class MyModel(nn.Module):\n",
        "    def __init__(self):\n",
        "        super(MyModel, self).__init__()\n",
        "        self.linear = nn.Linear(10, 1)\n",
        "    \n",
        "    def forward(self, x):\n",
        "        return self.linear(x)\n",
        "```\n",
        "#### Why do we use it?\n",
        "It manages model parameters, handles the forward computation, and simplifies tasks such as moving models to GPU or tracking gradients automatically.\n",
        "\n",
        "\n"
      ],
      "metadata": {
        "id": "hKLOmTr0BHyk"
      },
      "id": "hKLOmTr0BHyk"
    },
    {
      "cell_type": "markdown",
      "source": [
        "## 🔹 Step 2: Define Model"
      ],
      "metadata": {
        "id": "VlTEAM4y3FA0"
      },
      "id": "VlTEAM4y3FA0"
    },
    {
      "cell_type": "markdown",
      "source": [
        "### Building blocks - Enocder and Decoder"
      ],
      "metadata": {
        "id": "DuXH8zUee6Ud"
      },
      "id": "DuXH8zUee6Ud"
    },
    {
      "cell_type": "code",
      "execution_count": 9,
      "id": "6c990ab2",
      "metadata": {
        "id": "6c990ab2"
      },
      "outputs": [],
      "source": [
        "class EncoderRNN(nn.Module):\n",
        "    def __init__(self, vocab_size, embedding_size, hidden_size):\n",
        "        super(EncoderRNN, self).__init__()\n",
        "        # TODO: define layers used in the encoder, e.g. embedding and LSTM layers\n",
        "\n",
        "        # Setting the embedding layer for the encoder with size of vocabulary as passed in the input (vocab_size)\n",
        "        # And with dimesion of embedding_size\n",
        "        self.embedding = nn.Embedding(num_embeddings=vocab_size, embedding_dim=embedding_size)\n",
        "\n",
        "        # Add Long Short Term Memory layer with input size = embedding_size, hidden size as named, number of layers\n",
        "        # equals to 2 which is the default, and batch first is true since the shape of the src_batch was [32,50]\n",
        "        # which indicated that the batch size comes first\n",
        "        self.lstm = nn.LSTM(input_size=embedding_size, hidden_size=hidden_size, num_layers=2, batch_first=True)\n",
        "\n",
        "    def forward(self, input, hidden):\n",
        "        \"\"\"\n",
        "        input: (seq_len, batch_size) - token indices for input sentence\n",
        "        hidden: (1, batch_size, hidden_size) - initial hidden state\n",
        "        Returns:\n",
        "            output: all hidden states for the input sequence\n",
        "            hidden: final hidden state\n",
        "        \"\"\"\n",
        "        # TODO: implement the forward pass here\n",
        "        embedding = self.embedding(input)\n",
        "        output, hidden = self.lstm(embedding)\n",
        "        return output, hidden\n",
        "\n",
        "    def init_hidden(self, batch_size):\n",
        "        return torch.zeros(1, batch_size, hidden_size)\n",
        "\n",
        "class DecoderRNN(nn.Module):\n",
        "    def __init__(self, vocab_size, embedding_size, hidden_size):\n",
        "        super(DecoderRNN, self).__init__()\n",
        "        # TODO: define layers used in the decoder, e.g. embedding, LSTM and linear layers\n",
        "        self.embedding = nn.Embedding(num_embeddings=vocab_size, embedding_dim=embedding_size)\n",
        "\n",
        "        self.lstm = nn.LSTM(input_size=embedding_size, hidden_size=hidden_size, num_layers=2, batch_first=True)\n",
        "\n",
        "        self.out = nn.Linear(in_features=hidden_size, out_features=vocab_size)\n",
        "\n",
        "    def forward(self, input, hidden):\n",
        "        \"\"\"\n",
        "        input: (batch_size) - current token index at this decoding step\n",
        "        hidden: (1, batch_size, hidden_size) - current hidden state\n",
        "        Returns:\n",
        "            output: prediction for the next word (before softmax)\n",
        "            hidden: updated hidden state\n",
        "        \"\"\"\n",
        "        # TODO: Embed the input token, run one step of the RNN, generate output\n",
        "        embedding = self.embedding(input)\n",
        "        out, hidden = self.lstm(embedding)\n",
        "        output = self.out(out)\n",
        "        return output, hidden\n"
      ]
    },
    {
      "cell_type": "code",
      "execution_count": 10,
      "id": "08f70b0d",
      "metadata": {
        "id": "08f70b0d",
        "colab": {
          "base_uri": "https://localhost:8080/"
        },
        "outputId": "09bbbd84-a233-45d3-c65b-8a866f74f68c"
      },
      "outputs": [
        {
          "output_type": "stream",
          "name": "stdout",
          "text": [
            "Encoder output shape: torch.Size([32, 50, 128])\n",
            "Decoder output shape: torch.Size([32, 4403])\n"
          ]
        }
      ],
      "source": [
        "# Define Encoder & Decoder\n",
        "embedding_size = 64\n",
        "hidden_size = 128\n",
        "\n",
        "encoder = EncoderRNN(vocab_size, embedding_size, hidden_size)\n",
        "decoder = DecoderRNN(vocab_size, embedding_size, hidden_size)\n",
        "\n",
        "# Sanity Checks\n",
        "sample_input, sample_target = next(iter(train_loader))\n",
        "encoder_hidden = encoder.init_hidden(sample_input.size(0))\n",
        "encoder_output, encoder_hidden = encoder(sample_input, encoder_hidden)\n",
        "\n",
        "decoder_input = torch.tensor([word2idx[SOS]] * sample_input.size(0))\n",
        "decoder_hidden = encoder_hidden\n",
        "\n",
        "decoder_output, decoder_hidden = decoder(decoder_input, decoder_hidden)\n",
        "\n",
        "print(\"Encoder output shape:\", encoder_output.shape)\n",
        "print(\"Decoder output shape:\", decoder_output.shape)\n"
      ]
    },
    {
      "cell_type": "markdown",
      "source": [
        "### Seq2Seq model that wraps Encoder and Decoder together"
      ],
      "metadata": {
        "id": "jQLknjFt-5bg"
      },
      "id": "jQLknjFt-5bg"
    },
    {
      "cell_type": "code",
      "source": [
        "class Seq2Seq(nn.Module):\n",
        "    def __init__(self, encoder, decoder, sos_idx, device):\n",
        "        super(Seq2Seq, self).__init__()\n",
        "        self.encoder = encoder\n",
        "        self.decoder = decoder\n",
        "        self.sos_idx = sos_idx\n",
        "        self.device = device  # needed for creating new tensors like hidden states\n",
        "\n",
        "    def forward(self, src, trg):\n",
        "        \"\"\"\n",
        "        src: (batch_size, seq_len) - input sentence (shuffled)\n",
        "        trg: (batch_size, seq_len) - target sentence (original)\n",
        "        Returns:\n",
        "            outputs: tensor of shape (batch_size, seq_len, vocab_size)\n",
        "        \"\"\"\n",
        "        batch_size, trg_len = trg.shape\n",
        "        vocab_size = self.decoder.out.out_features\n",
        "\n",
        "        # Create an empty tensor to store decoder outputs\n",
        "        outputs = torch.zeros(batch_size, trg_len, vocab_size, device=self.device)\n",
        "\n",
        "        # Transpose inputs to match (seq_len, batch_size)\n",
        "        src = src.T\n",
        "        trg = trg.T\n",
        "\n",
        "        # Initialize hidden state on correct device\n",
        "        hidden = self.encoder.init_hidden(batch_size)\n",
        "\n",
        "        # Encode the input sentence\n",
        "        _, hidden = self.encoder(src, hidden)\n",
        "\n",
        "        # Start decoding with the <SOS> token\n",
        "        input = torch.full((batch_size,), self.sos_idx, device=self.device)\n",
        "\n",
        "        for t in range(trg_len):\n",
        "            output, hidden = self.decoder(input, hidden)\n",
        "            outputs[:, t, :] = output\n",
        "            input = trg[t]  # teacher forcing: feed the true token at each step\n",
        "\n",
        "        return outputs\n"
      ],
      "metadata": {
        "id": "JdusuF9w_Ea4"
      },
      "id": "JdusuF9w_Ea4",
      "execution_count": 11,
      "outputs": []
    },
    {
      "cell_type": "markdown",
      "source": [
        "## 🔹 Step 3: Training"
      ],
      "metadata": {
        "id": "WAmJH-5feIkb"
      },
      "id": "WAmJH-5feIkb"
    },
    {
      "cell_type": "code",
      "source": [
        "# define the training-loop function\n",
        "def train_model(model, train_loader, dev_loader, optimizer, criterion, device, num_epochs=10):\n",
        "    model.to(device)\n",
        "    train_losses = []\n",
        "    dev_losses = []\n",
        "\n",
        "    for epoch in range(num_epochs):\n",
        "        model.train()\n",
        "        epoch_loss = 0\n",
        "\n",
        "        for src, trg in train_loader:\n",
        "            src, trg = src.to(device), trg.to(device)\n",
        "\n",
        "            optimizer.zero_grad()\n",
        "            output = model(src, trg)\n",
        "\n",
        "            # output: (batch, seq_len, vocab_size)\n",
        "            # trg: (batch, seq_len)\n",
        "            output = output.view(-1, output.shape[-1])  # shape: (batch * seq_len, vocab_size)\n",
        "            trg = trg.view(-1)                          # shape: (batch * seq_len)\n",
        "\n",
        "            # Compute the loss\n",
        "            loss = criterion(output, trg)\n",
        "\n",
        "            loss.backward()\n",
        "            optimizer.step()\n",
        "            epoch_loss += loss.item()\n",
        "\n",
        "        train_losses.append(epoch_loss / len(train_loader))\n",
        "\n",
        "        # Evaluate on dev set\n",
        "        model.eval()\n",
        "        dev_loss = 0\n",
        "\n",
        "        with torch.no_grad():\n",
        "            for src, trg in dev_loader:\n",
        "                src, trg = src.to(device), trg.to(device)\n",
        "                output = model(src, trg)\n",
        "                output = output.view(-1, output.shape[-1])\n",
        "                trg = trg.view(-1)\n",
        "                loss = criterion(output, trg)\n",
        "                dev_loss += loss.item()\n",
        "\n",
        "        dev_losses.append(dev_loss / len(dev_loader))\n",
        "        print(f\"Epoch {epoch+1} | Train Loss: {train_losses[-1]:.4f} | Dev Loss: {dev_losses[-1]:.4f}\")\n",
        "\n",
        "    return train_losses, dev_losses\n"
      ],
      "metadata": {
        "id": "0lUGBZ7pd0Rw"
      },
      "id": "0lUGBZ7pd0Rw",
      "execution_count": 12,
      "outputs": []
    },
    {
      "cell_type": "code",
      "source": [
        "# Instantiate Model\n",
        "device = torch.device(\"cuda\" if torch.cuda.is_available() else \"cpu\")\n",
        "model = Seq2Seq(encoder, decoder, word2idx[SOS], device)\n",
        "\n",
        "# Choose optimizer and loss function\n",
        "optimizer = optim.Adam(model.parameters(), lr=0.001)\n",
        "criterion = nn.CrossEntropyLoss(ignore_index=word2idx[PAD])\n",
        "\n",
        "# Run training\n",
        "train_losses, dev_losses = train_model(\n",
        "    model, train_loader, dev_loader,\n",
        "    optimizer, criterion, device,\n",
        "    num_epochs=10\n",
        ")"
      ],
      "metadata": {
        "id": "AqiWK2_-fOWF",
        "colab": {
          "base_uri": "https://localhost:8080/"
        },
        "outputId": "d6553317-0778-4e58-dfa9-ea18fb9ad3e3"
      },
      "id": "AqiWK2_-fOWF",
      "execution_count": 13,
      "outputs": [
        {
          "output_type": "stream",
          "name": "stdout",
          "text": [
            "Epoch 1 | Train Loss: 5.8542 | Dev Loss: 5.2748\n",
            "Epoch 2 | Train Loss: 5.3629 | Dev Loss: 4.9991\n",
            "Epoch 3 | Train Loss: 5.0838 | Dev Loss: 4.7703\n",
            "Epoch 4 | Train Loss: 4.8709 | Dev Loss: 4.6115\n",
            "Epoch 5 | Train Loss: 4.7129 | Dev Loss: 4.5100\n",
            "Epoch 6 | Train Loss: 4.5955 | Dev Loss: 4.4315\n",
            "Epoch 7 | Train Loss: 4.4963 | Dev Loss: 4.3811\n",
            "Epoch 8 | Train Loss: 4.4190 | Dev Loss: 4.3377\n",
            "Epoch 9 | Train Loss: 4.3510 | Dev Loss: 4.3080\n",
            "Epoch 10 | Train Loss: 4.2924 | Dev Loss: 4.2826\n"
          ]
        }
      ]
    },
    {
      "cell_type": "code",
      "source": [
        "# Helper - loss visualizations\n",
        "import matplotlib.pyplot as plt\n",
        "\n",
        "def plot_losses(train_losses, dev_losses):\n",
        "    plt.plot(train_losses, label='Train Loss')\n",
        "    plt.plot(dev_losses, label='Dev Loss')\n",
        "    plt.xlabel('Epoch')\n",
        "    plt.ylabel('Loss')\n",
        "    plt.title('Training and Dev Loss over Epochs')\n",
        "    plt.legend()\n",
        "    plt.grid(True)\n",
        "    plt.show()\n",
        "\n",
        "plot_losses(train_losses, dev_losses)"
      ],
      "metadata": {
        "id": "k63dQnCoh3Zn",
        "colab": {
          "base_uri": "https://localhost:8080/",
          "height": 472
        },
        "outputId": "854dacab-5f8b-4c07-f6be-d1b1a3884136"
      },
      "id": "k63dQnCoh3Zn",
      "execution_count": 14,
      "outputs": [
        {
          "output_type": "display_data",
          "data": {
            "text/plain": [
              "<Figure size 640x480 with 1 Axes>"
            ],
            "image/png": "[encoded data removed]"
          },
          "metadata": {}
        }
      ]
    },
    {
      "cell_type": "markdown",
      "source": [
        "### Pedagogical Note: Interpreting the Loss Plots 🔍\n",
        "\n",
        "After training completes, you'll see two curves:\n",
        "\n",
        "- **Train Loss**: How well the model fits the training data.\n",
        "- **Dev Loss**: How well the model generalizes to unseen (validation) data.\n",
        "\n",
        "Ideally:\n",
        "- Both curves should **decrease over time**.\n",
        "- A small gap between them indicates **good generalization**.\n",
        "- If train loss decreases but dev loss increases, your model may be **overfitting**.\n",
        "\n",
        "Use these curves to decide if your model is learning stably and when to stop training.\n"
      ],
      "metadata": {
        "id": "aO0t5R_HkEvF"
      },
      "id": "aO0t5R_HkEvF"
    },
    {
      "cell_type": "markdown",
      "source": [
        "## Step 4: Inference\n",
        "Now that you have a trained model, you can use it to solve your task on any new data points.\n",
        "\n",
        "Complete the code below for implementing a inference function for the model."
      ],
      "metadata": {
        "id": "fSXqwoPDndhF"
      },
      "id": "fSXqwoPDndhF"
    },
    {
      "cell_type": "code",
      "source": [
        "def infer_sentences(shuffled_sentences, model, word2idx, idx2word, device, max_len=50):\n",
        "    \"\"\"\n",
        "    Generate predicted (unshuffled) sentences from a list of shuffled input sentences.\n",
        "\n",
        "    Args:\n",
        "        shuffled_sentences (List[str]): Sentences with words in randomized order.\n",
        "        model (Seq2Seq): Trained encoder-decoder model.\n",
        "        word2idx (Dict[str, int]): Mapping from words to vocabulary indices.\n",
        "        idx2word (Dict[int, str]): Mapping from indices to words.\n",
        "        device (torch.device): CPU or CUDA device for inference.\n",
        "        max_len (int): Maximum sentence length to decode.\n",
        "\n",
        "    Returns:\n",
        "        List[str]: Model's predicted sentences (as plain strings).\n",
        "    \"\"\"\n",
        "    model.eval()\n",
        "    predictions = []\n",
        "\n",
        "    sos_idx = word2idx['<SOS>']\n",
        "    eos_idx = word2idx['<EOS>']\n",
        "    pad_idx = word2idx['<PAD>']\n",
        "\n",
        "    with torch.no_grad():\n",
        "        for sentence in shuffled_sentences:\n",
        "            # TODO\n",
        "            predicted_sentence: str = ...\n",
        "            predictions.append(predicted_sentence)\n",
        "\n",
        "    return predictions\n"
      ],
      "metadata": {
        "id": "LOlykSQOoa_R"
      },
      "id": "LOlykSQOoa_R",
      "execution_count": null,
      "outputs": []
    },
    {
      "cell_type": "markdown",
      "source": [
        "\n",
        "Now, use the above inference function to generate prediction for the **test set**. You are provided with the test set shuffled sentences in [this downloadable file](https://drive.google.com/file/d/178mEesTW89Ooz_f5bb6sHBHjAkG4DWMV/view?usp=sharing). In your submission, you should run the inference function of the provided list of shuffled sentences, to attain a `predicted_test.csv` file. Typically, these predictions over the test set will be evaluated against their annotated labels (targets).  \n",
        "\n",
        "If you want to assess the quality of current trained model, you can run inference on the dev set and evaluate on it using the function below:"
      ],
      "metadata": {
        "id": "Ddv1mOKWqA9p"
      },
      "id": "Ddv1mOKWqA9p"
    },
    {
      "cell_type": "code",
      "source": [
        "def evaluate_sentence_predictions(predictions, targets):\n",
        "    \"\"\"\n",
        "    Compute exact match accuracy between predicted and target sentences (as strings).\n",
        "    Args:\n",
        "        predictions (List[str])\n",
        "        targets (List[str])\n",
        "    Returns:\n",
        "        accuracy (float): percentage of exact string matches\n",
        "    \"\"\"\n",
        "    correct = 0\n",
        "    total = len(predictions)\n",
        "    for pred, true in zip(predictions, targets):\n",
        "        if pred.strip() == true.strip():\n",
        "            correct += 1\n",
        "    accuracy = correct / total * 100\n",
        "    print(f\"Exact match accuracy: {accuracy:.2f}%\")\n",
        "    return accuracy"
      ],
      "metadata": {
        "id": "SE0shbcytAE1"
      },
      "id": "SE0shbcytAE1",
      "execution_count": null,
      "outputs": []
    },
    {
      "cell_type": "markdown",
      "source": [
        "# 🔁 Stage 2: Add Attention to Your Seq2Seq Model\n",
        "\n",
        "In this stage, you'll implement a new model: **`Seq2SeqWithAttention`**.  \n",
        "The goal is to improve your decoder by allowing it to \"attend\" to relevant parts of the encoder's outputs at each decoding step.\n",
        "\n",
        "### 🧠 Why Attention?\n",
        "The encoder compresses the entire input sentence into a single hidden state. This limits performance, especially on long sentences.\n",
        "\n",
        "With attention, the decoder **dynamically focuses on different encoder outputs**, depending on what it's trying to generate.\n",
        "\n",
        "---\n",
        "\n",
        "### 🔧 What You Need to Implement:\n",
        "You will create a new class `Seq2SeqWithAttention`, similar to `Seq2Seq`, but with the following differences:\n",
        "\n",
        "1. At each decoding step, compute **attention scores** over all encoder hidden states.\n",
        "2. Use those scores to compute a **context vector** (weighted sum of encoder outputs).\n",
        "3. Feed the context vector into the decoder along with the embedding of the current input token.\n",
        "\n",
        "---\n",
        "\n",
        "### 📌 Tip: Dot-Product Attention\n",
        "A simple form of attention you can implement is dot-product attention:\n",
        "\n",
        "```python\n",
        "score_t = dot(h_dec_t, h_enc_i) weights = softmax(score_t over i) context_t = sum_i weights[i] * h_enc_i\n",
        "```\n",
        "\n",
        "You'll apply this at every decoder time step.\n"
      ],
      "metadata": {
        "id": "m9PRjqHkt50Z"
      },
      "id": "m9PRjqHkt50Z"
    },
    {
      "cell_type": "code",
      "source": [
        "class Seq2SeqWithAttention(nn.Module):\n",
        "    def __init__(self, encoder, decoder, sos_idx, device):\n",
        "        super(Seq2SeqWithAttention, self).__init__()\n",
        "        self.encoder = encoder\n",
        "        self.decoder = decoder\n",
        "        self.sos_idx = sos_idx\n",
        "        self.device = device\n",
        "\n",
        "        # TODO: If needed, add additional layers for attention (e.g., linear projection)\n",
        "\n",
        "    def compute_attention(self, decoder_hidden, encoder_outputs):\n",
        "        \"\"\"\n",
        "        decoder_hidden: (1, batch_size, hidden_size)\n",
        "        encoder_outputs: (seq_len, batch_size, hidden_size)\n",
        "\n",
        "        Returns:\n",
        "            context vector: (batch_size, hidden_size)\n",
        "        \"\"\"\n",
        "        # TODO: implement dot-product attention or another variant\n",
        "        # Steps:\n",
        "        # 1. Compute attention scores: dot(decoder_hidden, encoder_outputs)\n",
        "        # 2. Apply softmax to get attention weights\n",
        "        # 3. Compute context vector: weighted sum of encoder_outputs\n",
        "        return context_vector\n",
        "\n",
        "    def forward(self, src, trg):\n",
        "        \"\"\"\n",
        "        src: (batch_size, seq_len)\n",
        "        trg: (batch_size, seq_len)\n",
        "        Returns:\n",
        "            outputs: (batch_size, seq_len, vocab_size)\n",
        "        \"\"\"\n",
        "        batch_size, trg_len = trg.shape\n",
        "        vocab_size = self.decoder.out.out_features\n",
        "        outputs = torch.zeros(batch_size, trg_len, vocab_size, device=self.device)\n",
        "\n",
        "        src = src.T\n",
        "        trg = trg.T\n",
        "\n",
        "        hidden = self.encoder.init_hidden(batch_size)\n",
        "        encoder_outputs, hidden = self.encoder(src, hidden)  # encoder_outputs: (seq_len, batch_size, hidden_size)\n",
        "\n",
        "        input_token = torch.full((batch_size,), self.sos_idx, device=self.device)\n",
        "\n",
        "        for t in range(trg_len):\n",
        "            # TODO: Compute context vector based on current hidden and encoder_outputs\n",
        "            context = self.compute_attention(hidden, encoder_outputs)\n",
        "\n",
        "            # TODO: Modify decoder forward to accept and use the context vector\n",
        "            # Hint: You may need to add context to the input embedding, or to the hidden state\n",
        "            output, hidden = self.decoder(input_token, hidden, context)\n",
        "\n",
        "            outputs[:, t, :] = output\n",
        "            input_token = trg[t]  # teacher forcing\n",
        "\n",
        "        return outputs\n"
      ],
      "metadata": {
        "id": "nPvAmc_euarf"
      },
      "id": "nPvAmc_euarf",
      "execution_count": null,
      "outputs": []
    },
    {
      "cell_type": "markdown",
      "source": [
        "## 📝 What You Need to Complete\n",
        "\n",
        "- Implement the `compute_attention()` method to compute a context vector from encoder outputs given the current (decoder) hidden state.\n",
        "- Update your `DecoderRNN` class so that it accepts and uses a context vector at every step:\n",
        "    - One option is to **concatenate** the context vector with the embedded input token before passing it to the RNN.\n",
        "    - Alternatively, you can feed the context into a projection layer together with the decoder hidden state.\n",
        "\n",
        "---\n",
        "\n",
        "### 📌 Tip: Updated Decoder Signature\n",
        "\n",
        "You may need to rewrite your decoder to look like:\n",
        "\n",
        "```python\n",
        "def forward(self, input_token, hidden, context_vector):\n",
        "    ...\n",
        "```\n",
        "---\n",
        "> 💡 **Note on Attention Implementation**\n",
        "\n",
        "You are given flexibility in how you choose to implement the attention mechanism.\n",
        "\n",
        "You may:\n",
        "- Implement the **basic dot-product attention** we discussed in class.\n",
        "- Or, explore a more expressive variant by adding a **linear projection** to the decoder hidden state or the encoder outputs — borrowing an idea from self-attention in Transformers.\n",
        "\n",
        "As long as your implementation uses the decoder hidden state to compute attention over the encoder outputs and forms a context vector, you're free to experiment and design the solution that makes most sense to you.\n"
      ],
      "metadata": {
        "id": "3Fm5tMpGvBP1"
      },
      "id": "3Fm5tMpGvBP1"
    },
    {
      "cell_type": "markdown",
      "source": [
        "## 2.2 - Evaluate and Compare\n",
        "\n",
        "In this stage, you should use your adapted `Seq2SeqWithAttention` model, train it and evaluate its performance (on the dev set).  "
      ],
      "metadata": {
        "id": "lsGSMPTxwj4a"
      },
      "id": "lsGSMPTxwj4a"
    },
    {
      "cell_type": "code",
      "source": [
        "# Instantiate and Train a Seq2SeqWithAttention model\n",
        "# TODO"
      ],
      "metadata": {
        "id": "RRjxs544y1NK"
      },
      "id": "RRjxs544y1NK",
      "execution_count": null,
      "outputs": []
    },
    {
      "cell_type": "markdown",
      "id": "b54e29c4",
      "metadata": {
        "id": "b54e29c4"
      },
      "source": [
        "## 📌 Submission Instructions:\n",
        "Submit your completed notebook along with two files of predictions over the test set - `seq2seq_predictions.csv` and `seq2seq_with_attention_predictions.csv`.\n",
        "\n",
        "I will run the evaluation over the held-out test set.\n",
        "\n",
        "You should email all of these files with an email specifying the names and ids of the team (couples).\n",
        "\n",
        "✅ **Good luck!**\n"
      ]
    }
  ],
  "metadata": {
    "colab": {
      "provenance": [],
      "collapsed_sections": [
        "7o3Mz8zr3foD"
      ],
      "gpuType": "T4",
      "include_colab_link": true
    },
    "language_info": {
      "name": "python"
    },
    "kernelspec": {
      "name": "python3",
      "display_name": "Python 3"
    },
    "accelerator": "GPU"
  },
  "nbformat": 4,
  "nbformat_minor": 5
}